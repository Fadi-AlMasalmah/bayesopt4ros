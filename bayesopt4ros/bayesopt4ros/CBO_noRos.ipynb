{
 "cells": [
  {
   "cell_type": "markdown",
   "metadata": {},
   "source": [
    "# Intro\n",
    "This notebook uses the classes bayesopt4ros and contextual_bayesopt4ros but without using ros.\n"
   ]
  },
  {
   "cell_type": "markdown",
   "metadata": {},
   "source": [
    "## Bayesian Optimization Example (Not Contextual)"
   ]
  },
  {
   "cell_type": "markdown",
   "metadata": {},
   "source": [
    "### Util cell\n",
    "gets the config file and defines some classes to replace the ros2 related parts."
   ]
  },
  {
   "cell_type": "code",
   "execution_count": 55,
   "metadata": {},
   "outputs": [
    {
     "name": "stdout",
     "output_type": "stream",
     "text": [
      "current_dir: /home/fadi/ros2_ws_git_3/src/external_deps/bayesopt4ros/bayesopt4ros\n",
      "parent_dir: /home/fadi/ros2_ws_git_3/src/external_deps/bayesopt4ros\n",
      "../config/forrester_ucb.yaml\n"
     ]
    }
   ],
   "source": [
    "# this notebook uses the classes bayesopt4ros and contextual_bayesopt4ros but without using ros.\n",
    "# instead of creating a ros2 server\n",
    "import os\n",
    "import glob\n",
    "\n",
    "from bayesopt4ros.bayesopt import BayesianOptimization\n",
    "from bayesopt4ros import util\n",
    "import numpy as np\n",
    "import test_objectives\n",
    "import torch\n",
    "\n",
    "# create a class that replaces the logger of ros2 with functions warning, info, debug and error\n",
    "class Logger:\n",
    "    def warning(self, msg):\n",
    "        print(f'WARNING: {msg}')\n",
    "    def info(self, msg):\n",
    "        print(f'INFO: {msg}')\n",
    "    def debug(self, msg):\n",
    "        print(f'DEBUG: {msg}')\n",
    "    def error(self, msg):\n",
    "        print(f'ERROR: {msg}')\n",
    "\n",
    "#create a class called goal, which has, goal.x_new, and goal.y_new\n",
    "class Goal:\n",
    "    def __init__(self, x_new, y_new, c_new= None):\n",
    "        self.x_new = x_new\n",
    "        self.y_new = y_new\n",
    "        self.c_new = c_new\n",
    "\n",
    "# get the path of the parent of the current directory\n",
    "current_dir = os.path.dirname(os.path.realpath(''))\n",
    "parent_dir = os.path.abspath(os.path.join(current_dir, os.pardir))\n",
    "\n",
    "print(f'current_dir: {current_dir}')\n",
    "print(f'parent_dir: {parent_dir}')\n",
    "yaml_file = glob.glob(os.path.join('../config', 'forrester_ucb.yaml'))[0]\n",
    "print(yaml_file)\n",
    "\n"
   ]
  },
  {
   "cell_type": "code",
   "execution_count": 48,
   "metadata": {},
   "outputs": [
    {
     "name": "stdout",
     "output_type": "stream",
     "text": [
      "INFO: -----------\n",
      "INFO: feature_names: x1\n",
      "INFO: outcome_names: y1\n",
      "WARNING: dbg BayesianOptimization: _update_model, self.x_new == None or y_new = 0 for triggering\n",
      "x_new: tensor([0.5000], dtype=torch.float64)\n",
      "-----------\n",
      "iteration 0 :  x_new: 0.000, y_new: 0.909\n"
     ]
    },
    {
     "name": "stderr",
     "output_type": "stream",
     "text": [
      "\u001b[0m[INFO] [1712681586.471141515] [util]: Logging directory: BO_logs/forrester_ucb/2024-04-09-18-53-06\u001b[0m\n",
      "/home/fadi/.local/lib/python3.10/site-packages/botorch/models/transforms/outcome.py:304: UserWarning: std(): degrees of freedom is <= 0. Correction should be strictly less than the reduction factor (input numel divided by output numel). (Triggered internally at ../aten/src/ATen/native/ReduceOps.cpp:1760.)\n",
      "  stdvs = Y.std(dim=-2, keepdim=True)\n",
      "/home/fadi/.local/lib/python3.10/site-packages/botorch/models/utils/assorted.py:194: UserWarning: std(): degrees of freedom is <= 0. Correction should be strictly less than the reduction factor (input numel divided by output numel). (Triggered internally at ../aten/src/ATen/native/ReduceOps.cpp:1760.)\n",
      "  Ymean, Ystd = torch.mean(Y, dim=-2), torch.std(Y, dim=-2)\n"
     ]
    },
    {
     "name": "stdout",
     "output_type": "stream",
     "text": [
      "iteration 1 :  x_new: 1.000, y_new: 3.027\n",
      "iteration 2 :  x_new: 0.262, y_new: 15.830\n",
      "iteration 3 :  x_new: 0.363, y_new: -0.140\n",
      "iteration 4 :  x_new: 0.180, y_new: 0.011\n",
      "iteration 5 :  x_new: 0.161, y_new: -0.818\n",
      "iteration 6 :  x_new: 0.678, y_new: -0.939\n",
      "iteration 7 :  x_new: 0.773, y_new: -3.604\n",
      "iteration 8 :  x_new: 0.742, y_new: -5.877\n",
      "iteration 9 :  x_new: 0.757, y_new: -5.898\n",
      "WARNING: [BayesOpt] x_new is too close to existing data, proposing random x_new instead.\n",
      "iteration 10 :  x_new: 0.872, y_new: -6.021\n",
      "WARNING: [BayesOpt] x_new is too close to existing data, proposing random x_new instead.\n",
      "iteration 11 :  x_new: 0.422, y_new: 1.841\n",
      "WARNING: [BayesOpt] x_new is too close to existing data, proposing random x_new instead.\n",
      "iteration 12 :  x_new: 0.503, y_new: 0.247\n",
      "WARNING: [BayesOpt] x_new is too close to existing data, proposing random x_new instead.\n",
      "iteration 13 :  x_new: 0.743, y_new: 0.924\n",
      "WARNING: [BayesOpt] x_new is too close to existing data, proposing random x_new instead.\n",
      "iteration 14 :  x_new: 0.053, y_new: -5.921\n"
     ]
    }
   ],
   "source": [
    "\n",
    "N_max = 15\n",
    "bo = BayesianOptimization.from_file(yaml_file, logger=Logger())\n",
    "func = test_objectives.Forrester()\n",
    "\n",
    "# triggering the BO algorithm\n",
    "goal = Goal(0, 0)\n",
    "x_new = bo.next(goal)\n",
    "print(f'x_new: {x_new}')\n",
    "print('-----------')\n",
    "\n",
    "# run the BO algorithm\n",
    "for i in range(N_max):\n",
    "    x_new_tensor = torch.atleast_2d(x_new.clone().detach())\n",
    "    # x_new_tensor = torch.atleast_2d(torch.tensor(x_new,dtype=torch.double))\n",
    "    y_new = func(x_new_tensor).squeeze().item()\n",
    "    goal = Goal(x_new, y_new)\n",
    "    x_new = bo.next(goal)\n",
    "    print(f'iteration {i} :  x_new: {x_new.item():.3f}, y_new: {y_new:.3f}')\n"
   ]
  },
  {
   "cell_type": "markdown",
   "metadata": {},
   "source": [
    "The optimal value found by the BO algorithm"
   ]
  },
  {
   "cell_type": "code",
   "execution_count": 51,
   "metadata": {},
   "outputs": [
    {
     "name": "stdout",
     "output_type": "stream",
     "text": [
      "x_opt = tensor([0.7571], dtype=torch.float64)\n",
      "y_opt = -6.026422664372911\n",
      "x_best = tensor([0.7567], dtype=torch.float64)\n",
      "y_best = -6.020596949238973\n"
     ]
    }
   ],
   "source": [
    "x_opt, f_opt = bo.get_optimal_parameters()\n",
    "x_best, y_best = bo.get_best_observation()\n",
    "\n",
    "print(f'x_opt = {x_opt}')\n",
    "print(f'y_opt = {f_opt}')\n",
    "\n",
    "print(f'x_best = {x_best}')\n",
    "print(f'y_best = {y_best}')"
   ]
  },
  {
   "cell_type": "markdown",
   "metadata": {},
   "source": [
    "## Contextual Bayesian Optimization Example"
   ]
  },
  {
   "cell_type": "code",
   "execution_count": 76,
   "metadata": {},
   "outputs": [
    {
     "name": "stdout",
     "output_type": "stream",
     "text": [
      "../config/contextual_forrester_ucb.yaml\n",
      "WARNING: dbg BayesianOptimization: _update_model, self.x_new == None or y_new = 0 for triggering, context = tensor([4.8997], dtype=torch.float64)\n",
      "x_new: tensor([0.5000], dtype=torch.float64)\n",
      "iteration 0 :  x_new: 0.750, y_new: 0.909, c_new: 4.032\n",
      "iteration 1 :  x_new: 0.250, y_new: -4.985, c_new: 4.200\n"
     ]
    },
    {
     "name": "stderr",
     "output_type": "stream",
     "text": [
      "\u001b[0m[INFO] [1712685285.631802184] [util]: Logging directory: BO_logs/contextual_forrester_ucb/2024-04-09-19-54-45\u001b[0m\n"
     ]
    },
    {
     "name": "stdout",
     "output_type": "stream",
     "text": [
      "iteration 2 :  x_new: 0.375, y_new: -1.260, c_new: 5.314\n",
      "iteration 3 :  x_new: 0.117, y_new: -0.634, c_new: 19.195\n",
      "iteration 4 :  x_new: 1.000, y_new: -8.221, c_new: 2.596\n",
      "iteration 5 :  x_new: 0.000, y_new: 17.128, c_new: 7.212\n",
      "iteration 6 :  x_new: 0.726, y_new: -0.579, c_new: 11.842\n",
      "iteration 7 :  x_new: 0.264, y_new: -2.874, c_new: 13.049\n",
      "iteration 8 :  x_new: 0.478, y_new: -3.210, c_new: 17.310\n",
      "iteration 9 :  x_new: 0.000, y_new: 0.363, c_new: 17.539\n",
      "iteration 10 :  x_new: 0.657, y_new: -5.742, c_new: 0.234\n",
      "iteration 11 :  x_new: 0.124, y_new: -2.512, c_new: 5.194\n",
      "iteration 12 :  x_new: 0.094, y_new: -2.882, c_new: 16.136\n",
      "iteration 13 :  x_new: 0.157, y_new: -7.101, c_new: 12.176\n",
      "iteration 14 :  x_new: 0.816, y_new: -5.133, c_new: 11.992\n",
      "iteration 15 :  x_new: 0.162, y_new: -0.128, c_new: 16.198\n",
      "iteration 16 :  x_new: 0.104, y_new: -6.420, c_new: 12.392\n",
      "iteration 17 :  x_new: 0.718, y_new: -5.627, c_new: 3.531\n",
      "iteration 18 :  x_new: 0.083, y_new: -4.543, c_new: 10.731\n",
      "iteration 19 :  x_new: 0.749, y_new: -4.790, c_new: 5.468\n",
      "iteration 20 :  x_new: 0.073, y_new: -4.624, c_new: 17.800\n",
      "iteration 21 :  x_new: 0.755, y_new: -7.648, c_new: 5.473\n",
      "iteration 22 :  x_new: 0.766, y_new: -4.623, c_new: 4.224\n",
      "iteration 23 :  x_new: 0.114, y_new: -4.852, c_new: 13.902\n",
      "iteration 24 :  x_new: 0.749, y_new: -6.210, c_new: 6.394\n",
      "iteration 25 :  x_new: 0.119, y_new: -4.393, c_new: 11.296\n",
      "iteration 26 :  x_new: 0.754, y_new: -5.195, c_new: 2.580\n",
      "iteration 27 :  x_new: 0.756, y_new: -5.359, c_new: 1.913\n",
      "iteration 28 :  x_new: 0.751, y_new: -5.530, c_new: 6.023\n",
      "iteration 29 :  x_new: 0.124, y_new: -4.488, c_new: 8.226\n",
      "iteration 30 :  x_new: 0.750, y_new: -4.022, c_new: 6.993\n",
      "iteration 31 :  x_new: 0.112, y_new: -4.245, c_new: 10.647\n",
      "WARNING: [BayesOpt] x_new is too close to existing data, proposing random x_new instead.\n",
      "iteration 32 :  x_new: 0.432, y_new: -4.954, c_new: 10.198\n",
      "WARNING: [BayesOpt] x_new is too close to existing data, proposing random x_new instead.\n",
      "iteration 33 :  x_new: 0.721, y_new: -0.361, c_new: 6.515\n",
      "iteration 34 :  x_new: 0.114, y_new: -3.955, c_new: 10.035\n",
      "iteration 35 :  x_new: 0.119, y_new: -4.718, c_new: 10.446\n",
      "iteration 36 :  x_new: 0.110, y_new: -4.872, c_new: 11.374\n",
      "WARNING: [BayesOpt] x_new is too close to existing data, proposing random x_new instead.\n",
      "iteration 37 :  x_new: 0.384, y_new: -5.236, c_new: 10.956\n",
      "iteration 38 :  x_new: 0.101, y_new: -1.224, c_new: 16.263\n",
      "WARNING: [BayesOpt] x_new is too close to existing data, proposing random x_new instead.\n",
      "iteration 39 :  x_new: 0.285, y_new: -7.162, c_new: 1.917\n",
      "iteration 40 :  x_new: 0.756, y_new: -0.457, c_new: 1.232\n",
      "WARNING: [BayesOpt] x_new is too close to existing data, proposing random x_new instead.\n",
      "iteration 41 :  x_new: 0.053, y_new: -5.705, c_new: 6.369\n",
      "WARNING: [BayesOpt] x_new is too close to existing data, proposing random x_new instead.\n",
      "iteration 42 :  x_new: 0.391, y_new: -2.227, c_new: 12.128\n",
      "WARNING: [BayesOpt] x_new is too close to existing data, proposing random x_new instead.\n",
      "iteration 43 :  x_new: 0.073, y_new: -1.250, c_new: 5.237\n",
      "iteration 44 :  x_new: 0.095, y_new: -2.271, c_new: 18.231\n",
      "iteration 45 :  x_new: 0.090, y_new: -7.952, c_new: 19.782\n",
      "WARNING: [BayesOpt] x_new is too close to existing data, proposing random x_new instead.\n",
      "iteration 46 :  x_new: 0.955, y_new: -8.579, c_new: 7.073\n",
      "iteration 47 :  x_new: 0.103, y_new: 16.029, c_new: 15.505\n",
      "WARNING: [BayesOpt] x_new is too close to existing data, proposing random x_new instead.\n",
      "iteration 48 :  x_new: 0.901, y_new: -6.860, c_new: 7.008\n",
      "iteration 49 :  x_new: 0.763, y_new: 8.672, c_new: 2.313\n",
      "iteration 50 :  x_new: 0.099, y_new: -5.394, c_new: 17.468\n",
      "iteration 51 :  x_new: 0.107, y_new: -7.645, c_new: 13.173\n",
      "iteration 52 :  x_new: 0.118, y_new: -5.938, c_new: 8.281\n",
      "WARNING: [BayesOpt] x_new is too close to existing data, proposing random x_new instead.\n",
      "iteration 53 :  x_new: 0.916, y_new: -4.047, c_new: 18.239\n",
      "WARNING: [BayesOpt] x_new is too close to existing data, proposing random x_new instead.\n",
      "iteration 54 :  x_new: 0.599, y_new: 15.588, c_new: 17.205\n",
      "WARNING: [BayesOpt] x_new is too close to existing data, proposing random x_new instead.\n",
      "iteration 55 :  x_new: 0.853, y_new: 1.592, c_new: 2.068\n",
      "iteration 56 :  x_new: 0.756, y_new: 0.215, c_new: 0.010\n",
      "WARNING: [BayesOpt] x_new is too close to existing data, proposing random x_new instead.\n",
      "iteration 57 :  x_new: 0.908, y_new: -6.018, c_new: 0.204\n",
      "iteration 58 :  x_new: 0.106, y_new: 6.965, c_new: 14.297\n",
      "WARNING: [BayesOpt] x_new is too close to existing data, proposing random x_new instead.\n",
      "iteration 59 :  x_new: 0.122, y_new: -6.381, c_new: 10.364\n",
      "WARNING: [BayesOpt] x_new is too close to existing data, proposing random x_new instead.\n",
      "iteration 60 :  x_new: 0.951, y_new: -4.834, c_new: 8.462\n",
      "iteration 61 :  x_new: 0.127, y_new: 16.226, c_new: 8.477\n",
      "WARNING: [BayesOpt] x_new is too close to existing data, proposing random x_new instead.\n",
      "iteration 62 :  x_new: 0.265, y_new: -4.110, c_new: 6.582\n",
      "iteration 63 :  x_new: 0.754, y_new: -1.664, c_new: 0.615\n",
      "WARNING: [BayesOpt] x_new is too close to existing data, proposing random x_new instead.\n",
      "iteration 64 :  x_new: 0.580, y_new: -5.858, c_new: 7.379\n",
      "WARNING: [BayesOpt] x_new is too close to existing data, proposing random x_new instead.\n",
      "iteration 65 :  x_new: 0.239, y_new: 0.980, c_new: 7.367\n",
      "WARNING: [BayesOpt] x_new is too close to existing data, proposing random x_new instead.\n",
      "iteration 66 :  x_new: 0.155, y_new: -2.211, c_new: 16.826\n",
      "iteration 67 :  x_new: 0.752, y_new: -6.770, c_new: 4.537\n",
      "WARNING: [BayesOpt] x_new is too close to existing data, proposing random x_new instead.\n",
      "iteration 68 :  x_new: 0.025, y_new: -4.863, c_new: 3.103\n",
      "WARNING: [BayesOpt] x_new is too close to existing data, proposing random x_new instead.\n",
      "iteration 69 :  x_new: 0.303, y_new: 0.353, c_new: 16.040\n",
      "WARNING: [BayesOpt] x_new is too close to existing data, proposing random x_new instead.\n",
      "iteration 70 :  x_new: 0.697, y_new: -3.174, c_new: 17.537\n",
      "WARNING: [BayesOpt] x_new is too close to existing data, proposing random x_new instead.\n",
      "iteration 71 :  x_new: 0.855, y_new: -1.012, c_new: 5.659\n",
      "WARNING: [BayesOpt] x_new is too close to existing data, proposing random x_new instead.\n",
      "iteration 72 :  x_new: 0.886, y_new: 1.816, c_new: 19.765\n",
      "WARNING: [BayesOpt] x_new is too close to existing data, proposing random x_new instead.\n",
      "iteration 73 :  x_new: 0.033, y_new: 11.401, c_new: 19.616\n",
      "WARNING: [BayesOpt] x_new is too close to existing data, proposing random x_new instead.\n",
      "iteration 74 :  x_new: 0.133, y_new: -7.708, c_new: 8.421\n",
      "WARNING: [BayesOpt] x_new is too close to existing data, proposing random x_new instead.\n",
      "iteration 75 :  x_new: 0.612, y_new: -4.061, c_new: 8.309\n",
      "iteration 76 :  x_new: 0.758, y_new: 0.379, c_new: 0.358\n",
      "WARNING: [BayesOpt] x_new is too close to existing data, proposing random x_new instead.\n",
      "iteration 77 :  x_new: 0.323, y_new: -5.928, c_new: 0.186\n",
      "WARNING: [BayesOpt] x_new is too close to existing data, proposing random x_new instead.\n",
      "iteration 78 :  x_new: 0.843, y_new: -0.033, c_new: 5.567\n",
      "iteration 79 :  x_new: 0.094, y_new: 0.371, c_new: 18.880\n",
      "WARNING: [BayesOpt] x_new is too close to existing data, proposing random x_new instead.\n",
      "iteration 80 :  x_new: 0.549, y_new: -8.214, c_new: 14.495\n",
      "WARNING: [BayesOpt] x_new is too close to existing data, proposing random x_new instead.\n",
      "iteration 81 :  x_new: 0.560, y_new: 1.588, c_new: 0.961\n",
      "WARNING: [BayesOpt] x_new is too close to existing data, proposing random x_new instead.\n",
      "iteration 82 :  x_new: 0.361, y_new: 0.820, c_new: 10.166\n",
      "WARNING: [BayesOpt] x_new is too close to existing data, proposing random x_new instead.\n",
      "iteration 83 :  x_new: 0.168, y_new: -1.410, c_new: 1.985\n",
      "WARNING: [BayesOpt] x_new is too close to existing data, proposing random x_new instead.\n",
      "iteration 84 :  x_new: 0.153, y_new: -1.559, c_new: 14.770\n",
      "WARNING: [BayesOpt] x_new is too close to existing data, proposing random x_new instead.\n",
      "iteration 85 :  x_new: 0.021, y_new: -6.095, c_new: 16.071\n",
      "WARNING: [BayesOpt] x_new is too close to existing data, proposing random x_new instead.\n",
      "iteration 86 :  x_new: 0.038, y_new: -5.686, c_new: 0.563\n",
      "WARNING: [BayesOpt] x_new is too close to existing data, proposing random x_new instead.\n",
      "iteration 87 :  x_new: 0.589, y_new: 0.983, c_new: 11.573\n",
      "WARNING: [BayesOpt] x_new is too close to existing data, proposing random x_new instead.\n",
      "iteration 88 :  x_new: 0.705, y_new: 1.197, c_new: 3.919\n",
      "WARNING: [BayesOpt] x_new is too close to existing data, proposing random x_new instead.\n",
      "iteration 89 :  x_new: 0.681, y_new: -4.012, c_new: 1.366\n",
      "WARNING: [BayesOpt] x_new is too close to existing data, proposing random x_new instead.\n",
      "iteration 90 :  x_new: 0.012, y_new: -3.492, c_new: 12.064\n",
      "WARNING: [BayesOpt] x_new is too close to existing data, proposing random x_new instead.\n",
      "iteration 91 :  x_new: 0.337, y_new: -3.438, c_new: 0.414\n",
      "WARNING: [BayesOpt] x_new is too close to existing data, proposing random x_new instead.\n",
      "iteration 92 :  x_new: 0.616, y_new: -0.067, c_new: 18.551\n",
      "iteration 93 :  x_new: 0.751, y_new: 1.443, c_new: 7.936\n",
      "WARNING: [BayesOpt] x_new is too close to existing data, proposing random x_new instead.\n",
      "iteration 94 :  x_new: 0.970, y_new: -4.009, c_new: 16.854\n",
      "WARNING: [BayesOpt] x_new is too close to existing data, proposing random x_new instead.\n",
      "iteration 95 :  x_new: 0.938, y_new: 22.142, c_new: 2.876\n",
      "WARNING: [BayesOpt] x_new is too close to existing data, proposing random x_new instead.\n",
      "iteration 96 :  x_new: 0.395, y_new: 12.086, c_new: 2.331\n",
      "WARNING: [BayesOpt] x_new is too close to existing data, proposing random x_new instead.\n",
      "iteration 97 :  x_new: 0.346, y_new: -0.151, c_new: 9.673\n",
      "WARNING: [BayesOpt] x_new is too close to existing data, proposing random x_new instead.\n",
      "iteration 98 :  x_new: 0.750, y_new: -1.489, c_new: 7.776\n",
      "WARNING: [BayesOpt] x_new is too close to existing data, proposing random x_new instead.\n",
      "iteration 99 :  x_new: 0.897, y_new: -4.049, c_new: 8.592\n"
     ]
    }
   ],
   "source": [
    "# this notebook uses the classes bayesopt4ros and contextual_bayesopt4ros but without using ros.\n",
    "# instead of creating a ros2 server\n",
    "import os\n",
    "import glob\n",
    "\n",
    "from bayesopt4ros.contextual_bayesopt import ContextualBayesianOptimization \n",
    "from bayesopt4ros import util\n",
    "import numpy as np\n",
    "import warnings\n",
    "\n",
    "cbo_yaml_file = glob.glob(os.path.join('../config', 'contextual_forrester_ucb.yaml'))[0]\n",
    "print(cbo_yaml_file)\n",
    "\n",
    "def sample_context(self) -> np.ndarray:\n",
    "        \"\"\"Samples a random context variable to emulate the client.\"\"\"\n",
    "        # context_bounds = [b for b in self.func._bounds[self.func.input_dim :]]\n",
    "        context_bounds = [[0,20]]\n",
    "        context = torch.tensor([np.random.uniform(b[0], b[1]) for b in context_bounds],dtype=torch.double)\n",
    "        return context\n",
    "\n",
    "N_max = 100\n",
    "cbo = ContextualBayesianOptimization.from_file(cbo_yaml_file, logger=Logger())\n",
    "func = test_objectives.ContextualForrester()\n",
    "\n",
    "# triggering the CBO algorithm\n",
    "c_prev = sample_context(cbo)\n",
    "goal = Goal(0, 0, c_prev)\n",
    "x_new = cbo.next(goal)\n",
    "print(f'x_new: {x_new}')\n",
    "\n",
    "warnings.filterwarnings(\"ignore\", category=UserWarning)\n",
    "for i in range(N_max):\n",
    "        # xc_new = torch.cat((torch.tensor(x_new,dtype=torch.double), c_prev))\n",
    "        xc_new = torch.cat((x_new.clone().detach(), c_prev))\n",
    "        xc_new_tensor = torch.atleast_2d(xc_new.clone().detach())\n",
    "        y_new = func(xc_new_tensor).squeeze().item()\n",
    "\n",
    "        c_new = sample_context(cbo)\n",
    "        x_new = cbo.next(Goal(x_new, y_new, c_new))\n",
    "        c_prev = c_new\n",
    "        print(f'iteration {i} :  x_new: {x_new.item():.3f}, y_new: {y_new:.3f}, c_new: {c_new.item():.3f}')\n"
   ]
  },
  {
   "cell_type": "code",
   "execution_count": 79,
   "metadata": {},
   "outputs": [
    {
     "name": "stdout",
     "output_type": "stream",
     "text": [
      "[(tensor([0.7573], dtype=torch.float64), tensor(-6.0101, dtype=torch.float64)), (tensor([0.7556], dtype=torch.float64), tensor(-5.5072, dtype=torch.float64)), (tensor([0.7537], dtype=torch.float64), tensor(-5.0009, dtype=torch.float64)), (tensor([0.7517], dtype=torch.float64), tensor(-4.4972, dtype=torch.float64)), (tensor([0.7496], dtype=torch.float64), tensor(-3.9966, dtype=torch.float64)), (tensor([0.1153], dtype=torch.float64), tensor(-4.7048, dtype=torch.float64)), (tensor([0.1103], dtype=torch.float64), tensor(-5.4793, dtype=torch.float64)), (tensor([0.1055], dtype=torch.float64), tensor(-6.2647, dtype=torch.float64)), (tensor([0.1008], dtype=torch.float64), tensor(-7.0604, dtype=torch.float64)), (tensor([0.0962], dtype=torch.float64), tensor(-7.8615, dtype=torch.float64)), (tensor([0.0917], dtype=torch.float64), tensor(-8.6582, dtype=torch.float64))]\n",
      "context: [0.0]| x_opt: [0.757], actual: tensor([0.7573], dtype=torch.float64) | f_opt: -6.021, actual: -6.010144795837524\n",
      "context: [2.0]| x_opt: [0.755], actual: tensor([0.7556], dtype=torch.float64) | f_opt: -5.508, actual: -5.50719285621998\n",
      "context: [4.0]| x_opt: [0.753], actual: tensor([0.7537], dtype=torch.float64) | f_opt: -4.999, actual: -5.000941771632395\n",
      "context: [6.0]| x_opt: [0.751], actual: tensor([0.7517], dtype=torch.float64) | f_opt: -4.494, actual: -4.497227672587529\n",
      "context: [8.0]| x_opt: [0.749], actual: tensor([0.7496], dtype=torch.float64) | f_opt: -3.993, actual: -3.99663033064904\n",
      "context: [10.0]| x_opt: [0.115], actual: tensor([0.1153], dtype=torch.float64) | f_opt: -4.705, actual: -4.704782255381792\n",
      "context: [12.0]| x_opt: [0.11], actual: tensor([0.1103], dtype=torch.float64) | f_opt: -5.48, actual: -5.479260218406223\n",
      "context: [14.0]| x_opt: [0.106], actual: tensor([0.1055], dtype=torch.float64) | f_opt: -6.264, actual: -6.264686183964626\n",
      "context: [16.0]| x_opt: [0.101], actual: tensor([0.1008], dtype=torch.float64) | f_opt: -7.057, actual: -7.060358816575784\n",
      "context: [18.0]| x_opt: [0.097], actual: tensor([0.0962], dtype=torch.float64) | f_opt: -7.859, actual: -7.861491419368699\n",
      "context: [20.0]| x_opt: [0.092], actual: tensor([0.0917], dtype=torch.float64) | f_opt: -8.67, actual: -8.658248176811394\n",
      "All tests passed!\n"
     ]
    }
   ],
   "source": [
    "# testing the learned optimal parameters\n",
    "results = []\n",
    "num_test_points = len(func._test_contexts)\n",
    "# testing on the context points\n",
    "for context in func._test_contexts:\n",
    "       results.append(cbo.get_optimal_parameters(context))\n",
    "print(results)\n",
    "\n",
    "id = 0\n",
    "for context, x_opt, f_opt in zip(\n",
    "            func._test_contexts,\n",
    "            func._contextual_optimizer,\n",
    "            func._contextual_optimal_values,\n",
    "        ):\n",
    "            result = results[id]\n",
    "            print(f'context: {context}| x_opt: {x_opt}, actual: {result[0]} | f_opt: {f_opt}, actual: {result[1]}')\n",
    "\n",
    "            np.testing.assert_almost_equal(result[0], x_opt, decimal=2)\n",
    "            np.testing.assert_almost_equal(result[1], f_opt, decimal=2)\n",
    "            id += 1\n",
    "        \n",
    "print('All tests passed!')\n"
   ]
  },
  {
   "cell_type": "markdown",
   "metadata": {},
   "source": []
  }
 ],
 "metadata": {
  "kernelspec": {
   "display_name": "Python 3",
   "language": "python",
   "name": "python3"
  },
  "language_info": {
   "codemirror_mode": {
    "name": "ipython",
    "version": 3
   },
   "file_extension": ".py",
   "mimetype": "text/x-python",
   "name": "python",
   "nbconvert_exporter": "python",
   "pygments_lexer": "ipython3",
   "version": "3.10.12"
  }
 },
 "nbformat": 4,
 "nbformat_minor": 2
}
